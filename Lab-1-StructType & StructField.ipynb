{
 "cells": [
  {
   "attachments": {},
   "cell_type": "markdown",
   "metadata": {},
   "source": [
    "LAB - 320.1.2 - PYSQL - StructType & StructField - 1"
   ]
  },
  {
   "cell_type": "code",
   "execution_count": 1,
   "metadata": {},
   "outputs": [],
   "source": [
    "import pyspark\n",
    "from pyspark.sql import SparkSession\n",
    "#and import struct types and data types\n",
    "from pyspark.sql.types import StructType,StructField,StringType,IntegerType,FloatType"
   ]
  },
  {
   "cell_type": "code",
   "execution_count": 2,
   "metadata": {},
   "outputs": [],
   "source": [
    "spark_app = SparkSession.builder.appName('sparkdemo').getOrCreate()"
   ]
  },
  {
   "cell_type": "code",
   "execution_count": 3,
   "metadata": {},
   "outputs": [],
   "source": [
    "# ------create student data with 5 rows and 6 attributes------\n",
    "\n",
    "# rows\n",
    "\n",
    "students =[['001','john',23,5.79,67,'NY'], ['002','James',18,3.79,34,'NY'], ['003','Eric',17,2.79,17,'NJ'],\n",
    "               ['004','Shahparan',19,3.69,28,'NJ'],['005','Flex',37,5.59,54,'Dallas']]"
   ]
  },
  {
   "cell_type": "code",
   "execution_count": 5,
   "metadata": {},
   "outputs": [],
   "source": [
    "#----------define the StructType and StructFields-------\n",
    "#for the below column names\n",
    "\n",
    "# Cloumns\n",
    "\n",
    "schema=StructType([\n",
    "    StructField(\"rollno\",StringType(),True),\n",
    "    StructField(\"name\",StringType(),True),\n",
    "    StructField(\"age\",IntegerType(),True),\n",
    "    StructField(\"height\", FloatType(), True),\n",
    "    StructField(\"weight\", IntegerType(), True),\n",
    "    StructField(\"address\", StringType(), True)  ])\n"
   ]
  },
  {
   "cell_type": "code",
   "execution_count": 6,
   "metadata": {},
   "outputs": [
    {
     "name": "stdout",
     "output_type": "stream",
     "text": [
      "+------+---------+---+------+------+-------+\n",
      "|rollno|     name|age|height|weight|address|\n",
      "+------+---------+---+------+------+-------+\n",
      "|   001|     john| 23|  5.79|    67|     NY|\n",
      "|   002|    James| 18|  3.79|    34|     NY|\n",
      "|   003|     Eric| 17|  2.79|    17|     NJ|\n",
      "|   004|Shahparan| 19|  3.69|    28|     NJ|\n",
      "|   005|     Flex| 37|  5.59|    54| Dallas|\n",
      "+------+---------+---+------+------+-------+\n",
      "\n"
     ]
    }
   ],
   "source": [
    "#-----create the dataframe and add schema to the dataframe---\n",
    "\n",
    "# students--- rows, schema--- columns\n",
    "\n",
    "df = spark_app.createDataFrame(students, schema=schema)  \n",
    "df.show()"
   ]
  },
  {
   "cell_type": "code",
   "execution_count": 7,
   "metadata": {},
   "outputs": [
    {
     "data": {
      "text/plain": [
       "StructType([StructField('rollno', StringType(), True), StructField('name', StringType(), True), StructField('age', IntegerType(), True), StructField('height', FloatType(), True), StructField('weight', IntegerType(), True), StructField('address', StringType(), True)])"
      ]
     },
     "execution_count": 7,
     "metadata": {},
     "output_type": "execute_result"
    }
   ],
   "source": [
    "# Display Dataframe Schema\n",
    "df.schema"
   ]
  },
  {
   "cell_type": "code",
   "execution_count": 8,
   "metadata": {},
   "outputs": [
    {
     "data": {
      "text/plain": [
       "[StructField('rollno', StringType(), True),\n",
       " StructField('name', StringType(), True),\n",
       " StructField('age', IntegerType(), True),\n",
       " StructField('height', FloatType(), True),\n",
       " StructField('weight', IntegerType(), True),\n",
       " StructField('address', StringType(), True)]"
      ]
     },
     "execution_count": 8,
     "metadata": {},
     "output_type": "execute_result"
    }
   ],
   "source": [
    "# If we want to display schema.fields, we have to use fields with schema.\n",
    "df.schema.fields"
   ]
  },
  {
   "cell_type": "code",
   "execution_count": 9,
   "metadata": {},
   "outputs": [
    {
     "name": "stdout",
     "output_type": "stream",
     "text": [
      "root\n",
      " |-- rollno: string (nullable = true)\n",
      " |-- name: string (nullable = true)\n",
      " |-- age: integer (nullable = true)\n",
      " |-- height: float (nullable = true)\n",
      " |-- weight: integer (nullable = true)\n",
      " |-- address: string (nullable = true)\n",
      "\n"
     ]
    }
   ],
   "source": [
    "# We can also use the printSchema() method to display the schema in a tree format.\n",
    "df.printSchema()"
   ]
  },
  {
   "attachments": {},
   "cell_type": "markdown",
   "metadata": {},
   "source": [
    "Example 2 - Dataframe.schema\n",
    "Let’s try. We are going to display the schema of the dataframe, as shown below:"
   ]
  },
  {
   "cell_type": "code",
   "execution_count": 10,
   "metadata": {},
   "outputs": [
    {
     "name": "stdout",
     "output_type": "stream",
     "text": [
      "StructType([StructField('rollno', StringType(), True), StructField('name', StringType(), True), StructField('age', IntegerType(), True), StructField('height', FloatType(), True), StructField('weight', IntegerType(), True), StructField('address', StringType(), True)])\n"
     ]
    }
   ],
   "source": [
    "#create the dataframe and add schema to the dataframe\n",
    "df = spark_app.createDataFrame(students, schema=schema)\n",
    "\n",
    "# display the schema\n",
    "print(df.schema)\n",
    "\n",
    "# output is Tuple\n"
   ]
  },
  {
   "attachments": {},
   "cell_type": "markdown",
   "metadata": {},
   "source": [
    "Example 3 - Dataframe.schema.fields\n",
    "We are going to display the schema fields of the dataframe using schema.fields."
   ]
  },
  {
   "cell_type": "code",
   "execution_count": 11,
   "metadata": {},
   "outputs": [
    {
     "name": "stdout",
     "output_type": "stream",
     "text": [
      "[StructField('rollno', StringType(), True), StructField('name', StringType(), True), StructField('age', IntegerType(), True), StructField('height', FloatType(), True), StructField('weight', IntegerType(), True), StructField('address', StringType(), True)]\n"
     ]
    }
   ],
   "source": [
    "# display the schema fields\n",
    "print(df.schema.fields)\n",
    "\n",
    "# output is list"
   ]
  },
  {
   "attachments": {},
   "cell_type": "markdown",
   "metadata": {},
   "source": [
    "Example 4 - Dataframe.printSchema()\n",
    "Display the schema in a tree format with the printSchema() method."
   ]
  },
  {
   "cell_type": "code",
   "execution_count": 12,
   "metadata": {},
   "outputs": [
    {
     "name": "stdout",
     "output_type": "stream",
     "text": [
      "root\n",
      " |-- rollno: string (nullable = true)\n",
      " |-- name: string (nullable = true)\n",
      " |-- age: integer (nullable = true)\n",
      " |-- height: float (nullable = true)\n",
      " |-- weight: integer (nullable = true)\n",
      " |-- address: string (nullable = true)\n",
      "\n"
     ]
    }
   ],
   "source": [
    "# display the schema in tree format\n",
    "df.printSchema()\n"
   ]
  },
  {
   "attachments": {},
   "cell_type": "markdown",
   "metadata": {},
   "source": [
    "how the spark session is created\n",
    "https://spark.apache.org/docs/3.1.1/api/python/reference/api/pyspark.sql.SparkSession.builder.appName.html\n",
    "\n"
   ]
  }
 ],
 "metadata": {
  "kernelspec": {
   "display_name": "Python 3",
   "language": "python",
   "name": "python3"
  },
  "language_info": {
   "codemirror_mode": {
    "name": "ipython",
    "version": 3
   },
   "file_extension": ".py",
   "mimetype": "text/x-python",
   "name": "python",
   "nbconvert_exporter": "python",
   "pygments_lexer": "ipython3",
   "version": "3.10.9"
  },
  "orig_nbformat": 4,
  "vscode": {
   "interpreter": {
    "hash": "52634da84371cba311ea128a5ea7cdc41ff074b781779e754b270ff9f8153cee"
   }
  }
 },
 "nbformat": 4,
 "nbformat_minor": 2
}
